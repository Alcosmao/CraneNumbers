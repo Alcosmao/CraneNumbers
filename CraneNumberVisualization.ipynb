{
 "cells": [
  {
   "cell_type": "code",
   "execution_count": 26,
   "id": "2c78267c",
   "metadata": {},
   "outputs": [
    {
     "ename": "SyntaxError",
     "evalue": "invalid syntax (159899925.py, line 2)",
     "output_type": "error",
     "traceback": [
      "\u001b[1;36m  Cell \u001b[1;32mIn[26], line 2\u001b[1;36m\u001b[0m\n\u001b[1;33m    pip install matplotlib\u001b[0m\n\u001b[1;37m        ^\u001b[0m\n\u001b[1;31mSyntaxError\u001b[0m\u001b[1;31m:\u001b[0m invalid syntax\n"
     ]
    }
   ],
   "source": [
    "# pip install pyodbc"
   ]
  },
  {
   "cell_type": "markdown",
   "id": "e2f87b8c",
   "metadata": {},
   "source": [
    "Installing module needed"
   ]
  },
  {
   "cell_type": "code",
   "execution_count": 27,
   "id": "5c8f02d3",
   "metadata": {},
   "outputs": [],
   "source": [
    "import os\n",
    "import pandas as pd\n",
    "import matplotlib.pyplot as plt"
   ]
  },
  {
   "cell_type": "markdown",
   "id": "9dc443af",
   "metadata": {},
   "source": [
    "Importing modules"
   ]
  },
  {
   "cell_type": "code",
   "execution_count": 17,
   "id": "74f568d6",
   "metadata": {},
   "outputs": [],
   "source": [
    "cnxn = pyodbc.connect('DRIVER={SQL Server Native Client 11.0};'\n",
    "                      'Server=DERDMPC\\SQLEXPRESS;'\n",
    "                      'Database=wroSkyscrapers;'\n",
    "                      'Port=49669;'\n",
    "                      'UID=ReadOnly;'\n",
    "                      'PWD=******')"
   ]
  },
  {
   "cell_type": "markdown",
   "id": "acbc9975",
   "metadata": {},
   "source": [
    "Connecting to SQL database"
   ]
  },
  {
   "cell_type": "code",
   "execution_count": 18,
   "id": "41e563db",
   "metadata": {},
   "outputs": [
    {
     "name": "stderr",
     "output_type": "stream",
     "text": [
      "C:\\Users\\rocze\\AppData\\Local\\Temp\\ipykernel_2820\\902616996.py:1: UserWarning: pandas only supports SQLAlchemy connectable (engine/connection) or database string URI or sqlite3 DBAPI2 connection. Other DBAPI2 objects are not tested. Please consider using SQLAlchemy.\n",
      "  df = pd.read_sql(\"select * from dbo.craneNumbersWroclaw\", con=cnxn)\n"
     ]
    },
    {
     "data": {
      "text/html": [
       "<div>\n",
       "<style scoped>\n",
       "    .dataframe tbody tr th:only-of-type {\n",
       "        vertical-align: middle;\n",
       "    }\n",
       "\n",
       "    .dataframe tbody tr th {\n",
       "        vertical-align: top;\n",
       "    }\n",
       "\n",
       "    .dataframe thead th {\n",
       "        text-align: right;\n",
       "    }\n",
       "</style>\n",
       "<table border=\"1\" class=\"dataframe\">\n",
       "  <thead>\n",
       "    <tr style=\"text-align: right;\">\n",
       "      <th></th>\n",
       "      <th>entryID</th>\n",
       "      <th>postNick</th>\n",
       "      <th>postDate</th>\n",
       "      <th>craneNumbers</th>\n",
       "      <th>dataCreated</th>\n",
       "    </tr>\n",
       "  </thead>\n",
       "  <tbody>\n",
       "    <tr>\n",
       "      <th>0</th>\n",
       "      <td>150</td>\n",
       "      <td>erm_wroc</td>\n",
       "      <td>2007-07-29</td>\n",
       "      <td>31</td>\n",
       "      <td>2022-11-29 05:51:10.543</td>\n",
       "    </tr>\n",
       "    <tr>\n",
       "      <th>1</th>\n",
       "      <td>151</td>\n",
       "      <td>Maseran</td>\n",
       "      <td>2007-07-30</td>\n",
       "      <td>34</td>\n",
       "      <td>2022-11-29 05:51:10.543</td>\n",
       "    </tr>\n",
       "    <tr>\n",
       "      <th>2</th>\n",
       "      <td>152</td>\n",
       "      <td>alsen strasse 67</td>\n",
       "      <td>2007-11-23</td>\n",
       "      <td>49</td>\n",
       "      <td>2022-11-29 05:51:11.730</td>\n",
       "    </tr>\n",
       "    <tr>\n",
       "      <th>3</th>\n",
       "      <td>153</td>\n",
       "      <td>bura</td>\n",
       "      <td>2008-01-09</td>\n",
       "      <td>70</td>\n",
       "      <td>2022-11-29 05:51:11.733</td>\n",
       "    </tr>\n",
       "    <tr>\n",
       "      <th>4</th>\n",
       "      <td>154</td>\n",
       "      <td>bura</td>\n",
       "      <td>2008-01-10</td>\n",
       "      <td>80</td>\n",
       "      <td>2022-11-29 05:51:11.737</td>\n",
       "    </tr>\n",
       "    <tr>\n",
       "      <th>...</th>\n",
       "      <td>...</td>\n",
       "      <td>...</td>\n",
       "      <td>...</td>\n",
       "      <td>...</td>\n",
       "      <td>...</td>\n",
       "    </tr>\n",
       "    <tr>\n",
       "      <th>143</th>\n",
       "      <td>293</td>\n",
       "      <td>alsen strasse 67</td>\n",
       "      <td>2022-05-28</td>\n",
       "      <td>167</td>\n",
       "      <td>2022-11-29 05:53:08.647</td>\n",
       "    </tr>\n",
       "    <tr>\n",
       "      <th>144</th>\n",
       "      <td>294</td>\n",
       "      <td>Wrocer</td>\n",
       "      <td>2022-05-29</td>\n",
       "      <td>165</td>\n",
       "      <td>2022-11-29 05:53:08.660</td>\n",
       "    </tr>\n",
       "    <tr>\n",
       "      <th>145</th>\n",
       "      <td>295</td>\n",
       "      <td>Rafis</td>\n",
       "      <td>2022-05-30</td>\n",
       "      <td>167</td>\n",
       "      <td>2022-11-29 05:53:08.660</td>\n",
       "    </tr>\n",
       "    <tr>\n",
       "      <th>146</th>\n",
       "      <td>296</td>\n",
       "      <td>alsen strasse 67</td>\n",
       "      <td>2022-08-07</td>\n",
       "      <td>161</td>\n",
       "      <td>2022-11-29 05:53:09.977</td>\n",
       "    </tr>\n",
       "    <tr>\n",
       "      <th>147</th>\n",
       "      <td>297</td>\n",
       "      <td>alsen strasse 67</td>\n",
       "      <td>2022-11-11</td>\n",
       "      <td>133</td>\n",
       "      <td>2022-11-29 05:53:11.157</td>\n",
       "    </tr>\n",
       "  </tbody>\n",
       "</table>\n",
       "<p>148 rows × 5 columns</p>\n",
       "</div>"
      ],
      "text/plain": [
       "     entryID          postNick    postDate  craneNumbers  \\\n",
       "0        150          erm_wroc  2007-07-29            31   \n",
       "1        151           Maseran  2007-07-30            34   \n",
       "2        152  alsen strasse 67  2007-11-23            49   \n",
       "3        153              bura  2008-01-09            70   \n",
       "4        154              bura  2008-01-10            80   \n",
       "..       ...               ...         ...           ...   \n",
       "143      293  alsen strasse 67  2022-05-28           167   \n",
       "144      294            Wrocer  2022-05-29           165   \n",
       "145      295             Rafis  2022-05-30           167   \n",
       "146      296  alsen strasse 67  2022-08-07           161   \n",
       "147      297  alsen strasse 67  2022-11-11           133   \n",
       "\n",
       "                dataCreated  \n",
       "0   2022-11-29 05:51:10.543  \n",
       "1   2022-11-29 05:51:10.543  \n",
       "2   2022-11-29 05:51:11.730  \n",
       "3   2022-11-29 05:51:11.733  \n",
       "4   2022-11-29 05:51:11.737  \n",
       "..                      ...  \n",
       "143 2022-11-29 05:53:08.647  \n",
       "144 2022-11-29 05:53:08.660  \n",
       "145 2022-11-29 05:53:08.660  \n",
       "146 2022-11-29 05:53:09.977  \n",
       "147 2022-11-29 05:53:11.157  \n",
       "\n",
       "[148 rows x 5 columns]"
      ]
     },
     "execution_count": 18,
     "metadata": {},
     "output_type": "execute_result"
    }
   ],
   "source": [
    "df = pd.read_sql(\"select * from dbo.craneNumbersWroclaw\", con=cnxn)\n",
    "df"
   ]
  },
  {
   "cell_type": "code",
   "execution_count": 28,
   "id": "d2ad1dff",
   "metadata": {
    "scrolled": false
   },
   "outputs": [
    {
     "name": "stderr",
     "output_type": "stream",
     "text": [
      "C:\\Users\\rocze\\AppData\\Local\\Temp\\ipykernel_2820\\1554971165.py:1: UserWarning: pandas only supports SQLAlchemy connectable (engine/connection) or database string URI or sqlite3 DBAPI2 connection. Other DBAPI2 objects are not tested. Please consider using SQLAlchemy.\n",
      "  df = pd.read_sql(\"SELECT YEAR(cNW.postDate) AS Year, AVG(cNW.craneNumbers) AS AvarageCraneNumber FROM craneNumbersWroclaw AS cNW WHERE YEAR(cNW.postDate) != 2007 GROUP BY YEAR(cnw.postDate)\", con=cnxn)\n"
     ]
    },
    {
     "data": {
      "text/html": [
       "<div>\n",
       "<style scoped>\n",
       "    .dataframe tbody tr th:only-of-type {\n",
       "        vertical-align: middle;\n",
       "    }\n",
       "\n",
       "    .dataframe tbody tr th {\n",
       "        vertical-align: top;\n",
       "    }\n",
       "\n",
       "    .dataframe thead th {\n",
       "        text-align: right;\n",
       "    }\n",
       "</style>\n",
       "<table border=\"1\" class=\"dataframe\">\n",
       "  <thead>\n",
       "    <tr style=\"text-align: right;\">\n",
       "      <th></th>\n",
       "      <th>Year</th>\n",
       "      <th>AvarageCraneNumber</th>\n",
       "    </tr>\n",
       "  </thead>\n",
       "  <tbody>\n",
       "    <tr>\n",
       "      <th>0</th>\n",
       "      <td>2008</td>\n",
       "      <td>130</td>\n",
       "    </tr>\n",
       "    <tr>\n",
       "      <th>1</th>\n",
       "      <td>2009</td>\n",
       "      <td>170</td>\n",
       "    </tr>\n",
       "    <tr>\n",
       "      <th>2</th>\n",
       "      <td>2010</td>\n",
       "      <td>197</td>\n",
       "    </tr>\n",
       "    <tr>\n",
       "      <th>3</th>\n",
       "      <td>2011</td>\n",
       "      <td>169</td>\n",
       "    </tr>\n",
       "    <tr>\n",
       "      <th>4</th>\n",
       "      <td>2012</td>\n",
       "      <td>147</td>\n",
       "    </tr>\n",
       "    <tr>\n",
       "      <th>5</th>\n",
       "      <td>2013</td>\n",
       "      <td>102</td>\n",
       "    </tr>\n",
       "    <tr>\n",
       "      <th>6</th>\n",
       "      <td>2014</td>\n",
       "      <td>123</td>\n",
       "    </tr>\n",
       "    <tr>\n",
       "      <th>7</th>\n",
       "      <td>2015</td>\n",
       "      <td>153</td>\n",
       "    </tr>\n",
       "    <tr>\n",
       "      <th>8</th>\n",
       "      <td>2016</td>\n",
       "      <td>160</td>\n",
       "    </tr>\n",
       "    <tr>\n",
       "      <th>9</th>\n",
       "      <td>2017</td>\n",
       "      <td>169</td>\n",
       "    </tr>\n",
       "    <tr>\n",
       "      <th>10</th>\n",
       "      <td>2018</td>\n",
       "      <td>210</td>\n",
       "    </tr>\n",
       "    <tr>\n",
       "      <th>11</th>\n",
       "      <td>2019</td>\n",
       "      <td>173</td>\n",
       "    </tr>\n",
       "    <tr>\n",
       "      <th>12</th>\n",
       "      <td>2020</td>\n",
       "      <td>149</td>\n",
       "    </tr>\n",
       "    <tr>\n",
       "      <th>13</th>\n",
       "      <td>2021</td>\n",
       "      <td>111</td>\n",
       "    </tr>\n",
       "    <tr>\n",
       "      <th>14</th>\n",
       "      <td>2022</td>\n",
       "      <td>158</td>\n",
       "    </tr>\n",
       "  </tbody>\n",
       "</table>\n",
       "</div>"
      ],
      "text/plain": [
       "    Year  AvarageCraneNumber\n",
       "0   2008                 130\n",
       "1   2009                 170\n",
       "2   2010                 197\n",
       "3   2011                 169\n",
       "4   2012                 147\n",
       "5   2013                 102\n",
       "6   2014                 123\n",
       "7   2015                 153\n",
       "8   2016                 160\n",
       "9   2017                 169\n",
       "10  2018                 210\n",
       "11  2019                 173\n",
       "12  2020                 149\n",
       "13  2021                 111\n",
       "14  2022                 158"
      ]
     },
     "execution_count": 28,
     "metadata": {},
     "output_type": "execute_result"
    }
   ],
   "source": [
    "df = pd.read_sql(\"SELECT YEAR(cNW.postDate) AS Year, AVG(cNW.craneNumbers) AS AvarageCraneNumber FROM craneNumbersWroclaw AS cNW WHERE YEAR(cNW.postDate) != 2007 GROUP BY YEAR(cnw.postDate)\", con=cnxn)\n",
    "df"
   ]
  },
  {
   "cell_type": "markdown",
   "id": "0f7c96a4",
   "metadata": {},
   "source": [
    "Avarage number of cranes per year"
   ]
  },
  {
   "cell_type": "code",
   "execution_count": 34,
   "id": "ad3d4b6f",
   "metadata": {
    "scrolled": false
   },
   "outputs": [
    {
     "data": {
      "image/png": "[encoded data removed]",
      "text/plain": [
       "<Figure size 640x480 with 1 Axes>"
      ]
     },
     "metadata": {},
     "output_type": "display_data"
    }
   ],
   "source": [
    "plt.plot(df['Year'], df['AvarageCraneNumber'], marker='o')\n",
    "plt.xlabel('Year')\n",
    "plt.ylabel('Average Cranes Number')\n",
    "plt.title(\"Average Cranes Number vs Year\")\n",
    "plt.annotate('Peak for EURO 2012\\n preparations',(2010,197),(2012,197), arrowprops={'arrowstyle':'->'})\n",
    "plt.show()"
   ]
  },
  {
   "cell_type": "markdown",
   "id": "de88d596",
   "metadata": {},
   "source": [
    "Visualization of our data\n",
    "\n",
    "Now let's determine which person contributed the most to collecting this data!"
   ]
  },
  {
   "cell_type": "code",
   "execution_count": 36,
   "id": "b03e4417",
   "metadata": {},
   "outputs": [
    {
     "name": "stderr",
     "output_type": "stream",
     "text": [
      "C:\\Users\\rocze\\AppData\\Local\\Temp\\ipykernel_2820\\4051872170.py:1: UserWarning: pandas only supports SQLAlchemy connectable (engine/connection) or database string URI or sqlite3 DBAPI2 connection. Other DBAPI2 objects are not tested. Please consider using SQLAlchemy.\n",
      "  df = pd.read_sql(\"SELECT TOP 5 COUNT(cNW.postNick) AS FeedCount, postNick AS Nick FROM craneNumbersWroclaw AS cNW GROUP BY postNick ORDER BY COUNT(cNW.postNick) DESC\", con=cnxn)\n"
     ]
    },
    {
     "data": {
      "text/html": [
       "<div>\n",
       "<style scoped>\n",
       "    .dataframe tbody tr th:only-of-type {\n",
       "        vertical-align: middle;\n",
       "    }\n",
       "\n",
       "    .dataframe tbody tr th {\n",
       "        vertical-align: top;\n",
       "    }\n",
       "\n",
       "    .dataframe thead th {\n",
       "        text-align: right;\n",
       "    }\n",
       "</style>\n",
       "<table border=\"1\" class=\"dataframe\">\n",
       "  <thead>\n",
       "    <tr style=\"text-align: right;\">\n",
       "      <th></th>\n",
       "      <th>FeedCount</th>\n",
       "      <th>Nick</th>\n",
       "    </tr>\n",
       "  </thead>\n",
       "  <tbody>\n",
       "    <tr>\n",
       "      <th>0</th>\n",
       "      <td>113</td>\n",
       "      <td>alsen strasse 67</td>\n",
       "    </tr>\n",
       "    <tr>\n",
       "      <th>1</th>\n",
       "      <td>15</td>\n",
       "      <td>rybak</td>\n",
       "    </tr>\n",
       "    <tr>\n",
       "      <th>2</th>\n",
       "      <td>9</td>\n",
       "      <td>bura</td>\n",
       "    </tr>\n",
       "    <tr>\n",
       "      <th>3</th>\n",
       "      <td>4</td>\n",
       "      <td>Rafis</td>\n",
       "    </tr>\n",
       "    <tr>\n",
       "      <th>4</th>\n",
       "      <td>1</td>\n",
       "      <td>Maseran</td>\n",
       "    </tr>\n",
       "  </tbody>\n",
       "</table>\n",
       "</div>"
      ],
      "text/plain": [
       "   FeedCount              Nick\n",
       "0        113  alsen strasse 67\n",
       "1         15             rybak\n",
       "2          9              bura\n",
       "3          4             Rafis\n",
       "4          1           Maseran"
      ]
     },
     "execution_count": 36,
     "metadata": {},
     "output_type": "execute_result"
    }
   ],
   "source": [
    "df = pd.read_sql(\"SELECT TOP 5 COUNT(cNW.postNick) AS FeedCount, postNick AS Nick FROM craneNumbersWroclaw AS cNW GROUP BY postNick ORDER BY COUNT(cNW.postNick) DESC\", con=cnxn)\n",
    "df"
   ]
  },
  {
   "cell_type": "code",
   "execution_count": 41,
   "id": "96743311",
   "metadata": {},
   "outputs": [
    {
     "data": {
      "image/png": "[encoded data removed]",
      "text/plain": [
       "<Figure size 640x480 with 1 Axes>"
      ]
     },
     "metadata": {},
     "output_type": "display_data"
    }
   ],
   "source": [
    "bars = plt.bar(df['Nick'], df['FeedCount'], color=['red', 'blue', 'green', 'yellow', 'purple'])\n",
    "plt.title('Post Count by Nickname')\n",
    "plt.xlabel('Nickname')\n",
    "plt.ylabel('Post Count')\n",
    "for bar in bars:\n",
    "    height = bar.get_height()\n",
    "    plt.text(bar.get_x() + bar.get_width()/2, height, str(height), ha='center', va='bottom')\n",
    "plt.show()"
   ]
  },
  {
   "cell_type": "code",
   "execution_count": null,
   "id": "6ec8d4a1",
   "metadata": {},
   "outputs": [],
   "source": []
  }
 ],
 "metadata": {
  "kernelspec": {
   "display_name": "Python 3 (ipykernel)",
   "language": "python",
   "name": "python3"
  },
  "language_info": {
   "codemirror_mode": {
    "name": "ipython",
    "version": 3
   },
   "file_extension": ".py",
   "mimetype": "text/x-python",
   "name": "python",
   "nbconvert_exporter": "python",
   "pygments_lexer": "ipython3",
   "version": "3.10.6"
  }
 },
 "nbformat": 4,
 "nbformat_minor": 5
}
